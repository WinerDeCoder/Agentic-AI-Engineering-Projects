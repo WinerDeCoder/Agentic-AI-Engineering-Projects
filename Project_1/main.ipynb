{
 "cells": [
  {
   "cell_type": "code",
   "execution_count": 1,
   "metadata": {},
   "outputs": [],
   "source": [
    "from dotenv import load_dotenv\n",
    "from openai import AsyncOpenAI\n",
    "from agents import Agent, Runner, trace, function_tool, OpenAIChatCompletionsModel, input_guardrail, GuardrailFunctionOutput\n",
    "from typing import Dict\n",
    "import sendgrid\n",
    "import os\n",
    "from sendgrid.helpers.mail import Mail, Email, To, Content\n",
    "from pydantic import BaseModel\n",
    "import os\n",
    "import time\n",
    "import shutil\n",
    "import csv\n",
    "import pandas as pd\n",
    "import json"
   ]
  },
  {
   "cell_type": "code",
   "execution_count": null,
   "metadata": {},
   "outputs": [],
   "source": [
    "from utils.excel_handle import Excel_Customer_Command_Process"
   ]
  },
  {
   "cell_type": "code",
   "execution_count": null,
   "metadata": {},
   "outputs": [],
   "source": [
    "load_dotenv()\n",
    "\n",
    "openai_api_key = os.getenv('OPENAI_API_KEY')\n",
    "sendgrid_api_key = os.getenv('SENDGRID_API_KEY')"
   ]
  },
  {
   "cell_type": "code",
   "execution_count": null,
   "metadata": {},
   "outputs": [],
   "source": [
    "# Get the file path from the environment variable\n",
    "file_path = os.getenv(\"HOME_FILE_PATH_MAIN\")  # Ensure this points to a valid .csv file\n",
    "\n",
    "df = Excel_Customer_Command_Process(file_path)\n",
    "\n",
    "for index, row in df.iterrows():\n",
    "    date, email, name, rating, comment, product_id = row[\"Date\"], row[\"Email\"], row[\"Name\"], \\\n",
    "                                                    float(row[\"Rating\"]), row[\"Comment\"], row[\"Product_id\"]\n",
    "    \n",
    "    # Analyse Comment                                               \n",
    "\n",
    "    Handle_Customer_Inquiry(email, name, rating, comment)\n",
    "\n",
    "    "
   ]
  },
  {
   "cell_type": "code",
   "execution_count": null,
   "metadata": {},
   "outputs": [],
   "source": []
  }
 ],
 "metadata": {
  "kernelspec": {
   "display_name": "openai_agent",
   "language": "python",
   "name": "python3"
  },
  "language_info": {
   "codemirror_mode": {
    "name": "ipython",
    "version": 3
   },
   "file_extension": ".py",
   "mimetype": "text/x-python",
   "name": "python",
   "nbconvert_exporter": "python",
   "pygments_lexer": "ipython3",
   "version": "3.11.11"
  }
 },
 "nbformat": 4,
 "nbformat_minor": 2
}
